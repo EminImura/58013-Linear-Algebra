{
  "nbformat": 4,
  "nbformat_minor": 0,
  "metadata": {
    "colab": {
      "provenance": [],
      "authorship_tag": "ABX9TyPed5cQn7A8v788GouS8p0V",
      "include_colab_link": true
    },
    "kernelspec": {
      "name": "python3",
      "display_name": "Python 3"
    },
    "language_info": {
      "name": "python"
    }
  },
  "cells": [
    {
      "cell_type": "markdown",
      "metadata": {
        "id": "view-in-github",
        "colab_type": "text"
      },
      "source": [
        "<a href=\"https://colab.research.google.com/github/EminImura/58013-Linear-Algebra/blob/main/Python_Exercise_4.ipynb\" target=\"_parent\"><img src=\"https://colab.research.google.com/assets/colab-badge.svg\" alt=\"Open In Colab\"/></a>"
      ]
    },
    {
      "cell_type": "markdown",
      "source": [
        "Vector Operations and Its Applications"
      ],
      "metadata": {
        "id": "TDFguW7Lpyvk"
      }
    },
    {
      "cell_type": "code",
      "execution_count": 35,
      "metadata": {
        "colab": {
          "base_uri": "https://localhost:8080/"
        },
        "id": "TpnYmfqWpx5b",
        "outputId": "b748d61e-cb46-475d-edc9-9ab77e061b7c"
      },
      "outputs": [
        {
          "output_type": "stream",
          "name": "stdout",
          "text": [
            "A:\n",
            " [[-0.4]\n",
            " [ 4.3]\n",
            " [-0.6]]\n",
            "\n",
            "B:\n",
            " [-0.2  0.2  1. ]\n",
            "\n",
            "C:\n",
            " [-0.2  2.1 -1.5]\n",
            "\n",
            "Addition\n",
            "\n",
            "A + B + C:\n",
            " [[-0.8  1.9 -0.9]\n",
            " [ 3.9  6.6  3.8]\n",
            " [-1.   1.7 -1.1]]\n",
            "\n",
            "Subtraction\n",
            "\n",
            "A - B - c:\n",
            " [[ 0.  -2.7  0.1]\n",
            " [ 4.7  2.   4.8]\n",
            " [-0.2 -2.9 -0.1]]\n",
            "\n",
            "Multiplication\n",
            "\n",
            "A * B * C:\n",
            " [[-0.016 -0.168  0.6  ]\n",
            " [ 0.172  1.806 -6.45 ]\n",
            " [-0.024 -0.252  0.9  ]]\n",
            "\n",
            "Division Product\n",
            "\n",
            "A / B / C:\n",
            " [[-10.          -0.95238095   0.26666667]\n",
            " [107.5         10.23809524  -2.86666667]\n",
            " [-15.          -1.42857143   0.4       ]]\n"
          ]
        }
      ],
      "source": [
        "import numpy as np\n",
        "\n",
        "A = np.array([[-0.4],\n",
        "              [4.3],\n",
        "              [-0.6]])\n",
        "B = np.array([-0.2, 0.2, 1])\n",
        "C = np.array([-0.2, 2.1, -1.5])\n",
        "\n",
        "print(\"A:\\n\", A)\n",
        "print(\"\\nB:\\n\", B)\n",
        "print(\"\\nC:\\n\", C)\n",
        "\n",
        "#Addition\n",
        "print(\"\\nAddition\")\n",
        "sum = np.add(np.add(A, B), C)\n",
        "print(\"\\nA + B + C:\\n\", sum)\n",
        "\n",
        "#Subtraction\n",
        "print(\"\\nSubtraction\")\n",
        "diff = np.subtract(np.subtract(A, B), C)\n",
        "print(\"\\nA - B - c:\\n\", diff)\n",
        "\n",
        "#Multiply\n",
        "print(\"\\nMultiplication\")\n",
        "prod = np.multiply(np.multiply(A,B), C)\n",
        "print(\"\\nA * B * C:\\n\", prod)\n",
        "\n",
        "#Division\n",
        "print(\"\\nDivision Product\")\n",
        "quo = np.divide(np.divide(A, B), C)\n",
        "print(\"\\nA / B / C:\\n\", quo)"
      ]
    }
  ]
}