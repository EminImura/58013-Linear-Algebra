{
  "nbformat": 4,
  "nbformat_minor": 0,
  "metadata": {
    "colab": {
      "provenance": [],
      "authorship_tag": "ABX9TyOlMDhAKrs2zbIZgDsSvsxC",
      "include_colab_link": true
    },
    "kernelspec": {
      "name": "python3",
      "display_name": "Python 3"
    },
    "language_info": {
      "name": "python"
    }
  },
  "cells": [
    {
      "cell_type": "markdown",
      "metadata": {
        "id": "view-in-github",
        "colab_type": "text"
      },
      "source": [
        "<a href=\"https://colab.research.google.com/github/EminImura/58013-Linear-Algebra/blob/main/Review_of_Python.ipynb\" target=\"_parent\"><img src=\"https://colab.research.google.com/assets/colab-badge.svg\" alt=\"Open In Colab\"/></a>"
      ]
    },
    {
      "cell_type": "markdown",
      "source": [
        "Python Indendtation"
      ],
      "metadata": {
        "id": "jeuCuuRhjX5D"
      }
    },
    {
      "cell_type": "code",
      "execution_count": 1,
      "metadata": {
        "colab": {
          "base_uri": "https://localhost:8080/"
        },
        "id": "vr9zkGY-jRLm",
        "outputId": "4bef3656-0d3e-46d3-8f9f-7f0d346862df"
      },
      "outputs": [
        {
          "output_type": "stream",
          "name": "stdout",
          "text": [
            "five is greater than two\n"
          ]
        }
      ],
      "source": [
        "if 5>2:\n",
        "  print(\"five is greater than two\")"
      ]
    },
    {
      "cell_type": "markdown",
      "source": [
        "Python Comments"
      ],
      "metadata": {
        "id": "qeDjuiLpjZrr"
      }
    },
    {
      "cell_type": "code",
      "source": [
        "#This is a comment\n",
        "print(\"Hello, world!\")"
      ],
      "metadata": {
        "colab": {
          "base_uri": "https://localhost:8080/"
        },
        "id": "VZ5hJZj2jaKD",
        "outputId": "aa4a4a14-371c-44bd-f1a0-84fa7945b2fb"
      },
      "execution_count": 2,
      "outputs": [
        {
          "output_type": "stream",
          "name": "stdout",
          "text": [
            "Hello, world!\n"
          ]
        }
      ]
    },
    {
      "cell_type": "markdown",
      "source": [
        "Python Variables"
      ],
      "metadata": {
        "id": "X0ugpOvfjafM"
      }
    },
    {
      "cell_type": "code",
      "source": [
        "x=1\n",
        "a, b = 0, -1\n",
        "a, b, c = 0, -1, 2\n",
        "\n",
        "b = \"Sally\" #This is a type of string"
      ],
      "metadata": {
        "id": "J58Xkgxujanj"
      },
      "execution_count": 3,
      "outputs": []
    },
    {
      "cell_type": "markdown",
      "source": [
        "Casting"
      ],
      "metadata": {
        "id": "pl1NfOZNjaw7"
      }
    },
    {
      "cell_type": "code",
      "source": [
        "b = \"Sally\" #This is a type of string\n",
        "b = int(4)\n",
        "print(b)\n",
        "\n",
        "b = float(4)\n",
        "print(b)"
      ],
      "metadata": {
        "colab": {
          "base_uri": "https://localhost:8080/"
        },
        "id": "9dG1gOIKja2E",
        "outputId": "cd3b35a9-5f09-4983-800e-3d0fbcbb2afc"
      },
      "execution_count": 4,
      "outputs": [
        {
          "output_type": "stream",
          "name": "stdout",
          "text": [
            "4\n",
            "4.0\n"
          ]
        }
      ]
    },
    {
      "cell_type": "markdown",
      "source": [
        "Type() Function"
      ],
      "metadata": {
        "id": "-EZliBqZkagS"
      }
    },
    {
      "cell_type": "code",
      "source": [
        "x = 5\n",
        "y = \"John\"\n",
        "print(type(x))\n",
        "print(type(y))"
      ],
      "metadata": {
        "colab": {
          "base_uri": "https://localhost:8080/"
        },
        "id": "x7xgUyXakbEa",
        "outputId": "af9f6315-5b1d-43d5-96c6-8c3b2d1a28fd"
      },
      "execution_count": 5,
      "outputs": [
        {
          "output_type": "stream",
          "name": "stdout",
          "text": [
            "<class 'int'>\n",
            "<class 'str'>\n"
          ]
        }
      ]
    },
    {
      "cell_type": "markdown",
      "source": [
        "\"Double quotes\" or 'Single Quotes'"
      ],
      "metadata": {
        "id": "-9sFtmrVk2l6"
      }
    },
    {
      "cell_type": "code",
      "source": [
        "y = \"John\"\n",
        "y = 'John'"
      ],
      "metadata": {
        "id": "pV_MnQfZk27E"
      },
      "execution_count": 8,
      "outputs": []
    },
    {
      "cell_type": "markdown",
      "source": [
        "Case Sensitive"
      ],
      "metadata": {
        "id": "GkiB8u_qlJZJ"
      }
    },
    {
      "cell_type": "code",
      "source": [
        "a = 4\n",
        "A = \"Sally\"\n",
        "#A will not overwrite a"
      ],
      "metadata": {
        "id": "h3YcCwmXlJpp"
      },
      "execution_count": 6,
      "outputs": []
    },
    {
      "cell_type": "markdown",
      "source": [
        "Multiple Variables"
      ],
      "metadata": {
        "id": "Od9Pn5J5lcDh"
      }
    },
    {
      "cell_type": "code",
      "source": [
        "x, y, z = \"one\", \"two\", \"three\"\n",
        "print(x)\n",
        "print(y)\n",
        "print(z)\n",
        "x"
      ],
      "metadata": {
        "colab": {
          "base_uri": "https://localhost:8080/",
          "height": 87
        },
        "id": "699rspgmlbrB",
        "outputId": "93d9e629-add2-4b5b-fb24-be8a852407b6"
      },
      "execution_count": 9,
      "outputs": [
        {
          "output_type": "stream",
          "name": "stdout",
          "text": [
            "one\n",
            "two\n",
            "three\n"
          ]
        },
        {
          "output_type": "execute_result",
          "data": {
            "text/plain": [
              "'one'"
            ],
            "application/vnd.google.colaboratory.intrinsic+json": {
              "type": "string"
            }
          },
          "metadata": {},
          "execution_count": 9
        }
      ]
    },
    {
      "cell_type": "markdown",
      "source": [
        "One Value to Multiple Variables"
      ],
      "metadata": {
        "id": "GdtkCyWHlzIJ"
      }
    },
    {
      "cell_type": "code",
      "source": [
        "x = y = z = \"four\"\n",
        "print(x)\n",
        "print(y)\n",
        "print(z)"
      ],
      "metadata": {
        "colab": {
          "base_uri": "https://localhost:8080/"
        },
        "id": "tH6nYGwdlyvy",
        "outputId": "890669ec-be9f-40a7-840e-e2b5429dc77a"
      },
      "execution_count": 10,
      "outputs": [
        {
          "output_type": "stream",
          "name": "stdout",
          "text": [
            "four\n",
            "four\n",
            "four\n"
          ]
        }
      ]
    },
    {
      "cell_type": "markdown",
      "source": [
        "Output Variables"
      ],
      "metadata": {
        "id": "_izlBdrSmIiQ"
      }
    },
    {
      "cell_type": "code",
      "source": [
        "x = \"enjoying\"\n",
        "print(\"Python programming is \" + x)"
      ],
      "metadata": {
        "colab": {
          "base_uri": "https://localhost:8080/"
        },
        "id": "U1Pb3FADmJE4",
        "outputId": "6521125c-33ea-4403-dbef-68c767e09183"
      },
      "execution_count": 12,
      "outputs": [
        {
          "output_type": "stream",
          "name": "stdout",
          "text": [
            "Python programming is enjoying\n"
          ]
        }
      ]
    },
    {
      "cell_type": "code",
      "source": [
        "#Other way\n",
        "x = \"Python is \"\n",
        "y = \"enjoying\"\n",
        "z = x + y\n",
        "print(z)"
      ],
      "metadata": {
        "colab": {
          "base_uri": "https://localhost:8080/"
        },
        "id": "EbgQvbA4mjZG",
        "outputId": "31de5c99-170b-4438-eb30-a10e8cfd03e9"
      },
      "execution_count": 13,
      "outputs": [
        {
          "output_type": "stream",
          "name": "stdout",
          "text": [
            "Python is enjoying\n"
          ]
        }
      ]
    },
    {
      "cell_type": "markdown",
      "source": [
        "Arihmetic Operators"
      ],
      "metadata": {
        "id": "3zFWO05ynuSP"
      }
    },
    {
      "cell_type": "code",
      "source": [
        "x = 5\n",
        "y = 3\n",
        "print(x + y)\n",
        "\n",
        "x = 5\n",
        "y = 3\n",
        "sum = x + y\n",
        "sum"
      ],
      "metadata": {
        "colab": {
          "base_uri": "https://localhost:8080/"
        },
        "id": "IL1zaaf_nuDv",
        "outputId": "0b59fb1a-0644-4148-87c1-7d451d5a817d"
      },
      "execution_count": 14,
      "outputs": [
        {
          "output_type": "stream",
          "name": "stdout",
          "text": [
            "8\n"
          ]
        },
        {
          "output_type": "execute_result",
          "data": {
            "text/plain": [
              "8"
            ]
          },
          "metadata": {},
          "execution_count": 14
        }
      ]
    },
    {
      "cell_type": "markdown",
      "source": [
        "Assigning Operator"
      ],
      "metadata": {
        "id": "aCPV6epCoYMG"
      }
    },
    {
      "cell_type": "code",
      "source": [
        "a, b, c = 0, -1, 6\n",
        "c %= 3\n",
        "c"
      ],
      "metadata": {
        "colab": {
          "base_uri": "https://localhost:8080/"
        },
        "id": "ajXlDKWyoWon",
        "outputId": "5e5e78f8-76ad-4594-e642-faf5e7495bae"
      },
      "execution_count": 18,
      "outputs": [
        {
          "output_type": "execute_result",
          "data": {
            "text/plain": [
              "0"
            ]
          },
          "metadata": {},
          "execution_count": 18
        }
      ]
    },
    {
      "cell_type": "markdown",
      "source": [
        "Logical and Comparison Operator"
      ],
      "metadata": {
        "id": "zy6Qd4oQpG1w"
      }
    },
    {
      "cell_type": "code",
      "source": [
        "a, b, c = 0, -1, 6\n",
        "a > b and c > b"
      ],
      "metadata": {
        "colab": {
          "base_uri": "https://localhost:8080/"
        },
        "id": "86P5ES_SpWvt",
        "outputId": "72a4405f-8635-4852-cdbc-7f0a889152df"
      },
      "execution_count": 24,
      "outputs": [
        {
          "output_type": "execute_result",
          "data": {
            "text/plain": [
              "True"
            ]
          },
          "metadata": {},
          "execution_count": 24
        }
      ]
    },
    {
      "cell_type": "markdown",
      "source": [
        "Identity Operators"
      ],
      "metadata": {
        "id": "HV9JVcTQqbzn"
      }
    },
    {
      "cell_type": "code",
      "source": [
        "a, b ,c = 0, -1, 5\n",
        "a is c"
      ],
      "metadata": {
        "colab": {
          "base_uri": "https://localhost:8080/"
        },
        "id": "xxPJPAPmqcVw",
        "outputId": "cc04a8c5-74f0-4a88-8139-5bf8145e6136"
      },
      "execution_count": 23,
      "outputs": [
        {
          "output_type": "execute_result",
          "data": {
            "text/plain": [
              "False"
            ]
          },
          "metadata": {},
          "execution_count": 23
        }
      ]
    },
    {
      "cell_type": "markdown",
      "source": [
        "Bitwise Operators"
      ],
      "metadata": {
        "id": "qbSqmvW1rRqR"
      }
    },
    {
      "cell_type": "code",
      "source": [
        "a, b ,c = 0, -1, 5\n",
        "c >> 1"
      ],
      "metadata": {
        "colab": {
          "base_uri": "https://localhost:8080/"
        },
        "id": "c8QUOpDErR8F",
        "outputId": "dc027329-59a2-4971-d751-f8bd83e1a1b3"
      },
      "execution_count": 31,
      "outputs": [
        {
          "output_type": "execute_result",
          "data": {
            "text/plain": [
              "2"
            ]
          },
          "metadata": {},
          "execution_count": 31
        }
      ]
    }
  ]
}