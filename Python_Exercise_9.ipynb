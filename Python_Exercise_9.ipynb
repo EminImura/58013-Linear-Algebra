{
  "nbformat": 4,
  "nbformat_minor": 0,
  "metadata": {
    "colab": {
      "provenance": [],
      "authorship_tag": "ABX9TyOLj8RSsyKjau72TmNDAakX",
      "include_colab_link": true
    },
    "kernelspec": {
      "name": "python3",
      "display_name": "Python 3"
    },
    "language_info": {
      "name": "python"
    }
  },
  "cells": [
    {
      "cell_type": "markdown",
      "metadata": {
        "id": "view-in-github",
        "colab_type": "text"
      },
      "source": [
        "<a href=\"https://colab.research.google.com/github/EminImura/58013-Linear-Algebra/blob/main/Python_Exercise_9.ipynb\" target=\"_parent\"><img src=\"https://colab.research.google.com/assets/colab-badge.svg\" alt=\"Open In Colab\"/></a>"
      ]
    },
    {
      "cell_type": "markdown",
      "source": [
        "Matrix Algebra"
      ],
      "metadata": {
        "id": "9dnI4GWw2lnD"
      }
    },
    {
      "cell_type": "code",
      "execution_count": 5,
      "metadata": {
        "colab": {
          "base_uri": "https://localhost:8080/"
        },
        "id": "8PrJSSQ02f23",
        "outputId": "a6a998cc-d024-4349-a50e-218cb81b3da0"
      },
      "outputs": [
        {
          "output_type": "execute_result",
          "data": {
            "text/plain": [
              "3"
            ]
          },
          "metadata": {},
          "execution_count": 5
        }
      ],
      "source": [
        "import numpy as np\n",
        "import matplotlib.pyplot as plt\n",
        "%matplotlib inline\n",
        "\n",
        "A = np.array([[1,4],\n",
        "              [0,3]])\n",
        "\n",
        "(round(np.linalg.det(A)))"
      ]
    },
    {
      "cell_type": "code",
      "source": [
        "## Now other mathematics classes would require you to solve this by hand,\n",
        "## and that is great for practicing your memorization and coordination skills\n",
        "## but in this class we aim for simplicity and speed so we'll use programming\n",
        "## but it's completely fine if you want to try to solve this one by hand.\n",
        "\n",
        "import numpy as np\n",
        "\n",
        "B = np.array([[1,3,5,6],[0,3,1,3],[3,1,8,2],[5,2,6,8]])\n",
        "round(np.linalg.det(B))"
      ],
      "metadata": {
        "colab": {
          "base_uri": "https://localhost:8080/"
        },
        "id": "1W8WZ5sJ256i",
        "outputId": "bd213e7e-b628-4143-fb3d-ebff96536c30"
      },
      "execution_count": 6,
      "outputs": [
        {
          "output_type": "execute_result",
          "data": {
            "text/plain": [
              "-235"
            ]
          },
          "metadata": {},
          "execution_count": 6
        }
      ]
    }
  ]
}