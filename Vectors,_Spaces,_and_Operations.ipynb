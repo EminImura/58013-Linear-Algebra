{
  "nbformat": 4,
  "nbformat_minor": 0,
  "metadata": {
    "colab": {
      "provenance": [],
      "authorship_tag": "ABX9TyP27B1l7bcBeF2hj/6+ocPi",
      "include_colab_link": true
    },
    "kernelspec": {
      "name": "python3",
      "display_name": "Python 3"
    },
    "language_info": {
      "name": "python"
    }
  },
  "cells": [
    {
      "cell_type": "markdown",
      "metadata": {
        "id": "view-in-github",
        "colab_type": "text"
      },
      "source": [
        "<a href=\"https://colab.research.google.com/github/EminImura/58013-Linear-Algebra/blob/main/Vectors%2C_Spaces%2C_and_Operations.ipynb\" target=\"_parent\"><img src=\"https://colab.research.google.com/assets/colab-badge.svg\" alt=\"Open In Colab\"/></a>"
      ]
    },
    {
      "cell_type": "markdown",
      "source": [
        "Vectors"
      ],
      "metadata": {
        "id": "SkjAG4Ppg8L4"
      }
    },
    {
      "cell_type": "code",
      "execution_count": 19,
      "metadata": {
        "colab": {
          "base_uri": "https://localhost:8080/"
        },
        "id": "2ErDM3gndgC6",
        "outputId": "206ceb71-1f13-4fcc-ee67-954530c7b287"
      },
      "outputs": [
        {
          "output_type": "stream",
          "name": "stdout",
          "text": [
            "Vector A is [4 3]\n",
            "Vector B is [ 2 -5]\n",
            "[  8 -15]\n"
          ]
        }
      ],
      "source": [
        "import numpy as np\n",
        "a = np.array([4,3])\n",
        "b = np.array([2,-5])\n",
        "print('Vector A is', a)\n",
        "print('Vector B is', b)"
      ]
    },
    {
      "cell_type": "code",
      "source": [
        "import numpy as np\n",
        "ball1 = np.array([1,2,3])\n",
        "ball2 = np.array([0,1,-1])\n",
        "print(ball1)\n",
        "print(ball2)\n",
        "\n",
        "ballss = np.shape(ball1) + np.shape(ball2)\n",
        "print(ballss)\n",
        "\n",
        "x = np.ndim(ball1)\n",
        "print(x)"
      ],
      "metadata": {
        "colab": {
          "base_uri": "https://localhost:8080/"
        },
        "id": "sYrdxq3qier3",
        "outputId": "a34265cf-40c9-4c2d-d631-bbe700b9a2c2"
      },
      "execution_count": 54,
      "outputs": [
        {
          "output_type": "stream",
          "name": "stdout",
          "text": [
            "[1 2 3]\n",
            "[ 0  1 -1]\n",
            "(3, 3)\n",
            "1\n"
          ]
        }
      ]
    },
    {
      "cell_type": "markdown",
      "source": [
        "Spaces and Operation (Addition)"
      ],
      "metadata": {
        "id": "RXptiRmhrND9"
      }
    },
    {
      "cell_type": "code",
      "source": [
        "import numpy as np\n",
        "R = np.array([[6],[2]])\n",
        "\n",
        "a = np.array([4,3])\n",
        "b = np.array([2,-5])\n",
        "r1 = a+b\n",
        "r2 = np.add(a,b)\n",
        "\n",
        "print(r1)\n",
        "print(r2)"
      ],
      "metadata": {
        "colab": {
          "base_uri": "https://localhost:8080/"
        },
        "id": "-O_eaF8lrNMG",
        "outputId": "e3b9e4ce-0a6d-43e0-9c9f-771892d68dbd"
      },
      "execution_count": 68,
      "outputs": [
        {
          "output_type": "stream",
          "name": "stdout",
          "text": [
            "[ 6 -2]\n",
            "[ 6 -2]\n"
          ]
        }
      ]
    },
    {
      "cell_type": "markdown",
      "source": [
        "Subtraction"
      ],
      "metadata": {
        "id": "1OjKlZ1Gt7i-"
      }
    },
    {
      "cell_type": "code",
      "source": [
        "a = np.array([4,3])\n",
        "b = np.array([2,-5])\n",
        "r1 = a-b\n",
        "r2 = np.subtract(a,b)\n",
        "\n",
        "print(r1)\n",
        "print(r2)"
      ],
      "metadata": {
        "colab": {
          "base_uri": "https://localhost:8080/"
        },
        "id": "Mg0u0ROEt732",
        "outputId": "4cb8b711-007b-45fa-c1d8-26d27d99a3ed"
      },
      "execution_count": 69,
      "outputs": [
        {
          "output_type": "stream",
          "name": "stdout",
          "text": [
            "[2 8]\n",
            "[2 8]\n"
          ]
        }
      ]
    },
    {
      "cell_type": "markdown",
      "source": [
        "Multiplication"
      ],
      "metadata": {
        "id": "iyLl9Bj7uOnT"
      }
    },
    {
      "cell_type": "code",
      "source": [
        "a = np.array([4,3])\n",
        "b = np.array([2])\n",
        "print(a*b)\n",
        "\n",
        "a1 = np.array([4,3])\n",
        "b1= np.array([[2],[-5]])\n",
        "print(np.multiply(a1, b1))"
      ],
      "metadata": {
        "colab": {
          "base_uri": "https://localhost:8080/"
        },
        "id": "qlC-l8iruO-u",
        "outputId": "2b1641f7-b589-484c-a2c7-9aa0e90bd52e"
      },
      "execution_count": 86,
      "outputs": [
        {
          "output_type": "stream",
          "name": "stdout",
          "text": [
            "[8 6]\n",
            "[[  8   6]\n",
            " [-20 -15]]\n"
          ]
        }
      ]
    },
    {
      "cell_type": "markdown",
      "source": [
        "Dot Product"
      ],
      "metadata": {
        "id": "ZwbT2q67uOmH"
      }
    },
    {
      "cell_type": "code",
      "source": [
        "a1 = np.array([4,3])\n",
        "b1= np.array([[2],[-5]])\n",
        "print(np.dot(a1, b1))"
      ],
      "metadata": {
        "colab": {
          "base_uri": "https://localhost:8080/"
        },
        "id": "hbscVrq0wJU9",
        "outputId": "2522bca2-f787-4f4d-e3fd-5532cab6d273"
      },
      "execution_count": 85,
      "outputs": [
        {
          "output_type": "stream",
          "name": "stdout",
          "text": [
            "[-7]\n"
          ]
        }
      ]
    },
    {
      "cell_type": "markdown",
      "source": [
        "Cross Product"
      ],
      "metadata": {
        "id": "sLDn4rOBw9tF"
      }
    },
    {
      "cell_type": "code",
      "source": [
        "a1 = np.array([4,3])\n",
        "b1= np.array([2,-5])\n",
        "print(np.cross(a1, b1))"
      ],
      "metadata": {
        "colab": {
          "base_uri": "https://localhost:8080/"
        },
        "id": "vDMNw3Q-w3PI",
        "outputId": "5349c377-e4dc-4ee5-bc8e-1a29ddd241ac"
      },
      "execution_count": 83,
      "outputs": [
        {
          "output_type": "stream",
          "name": "stdout",
          "text": [
            "-26\n"
          ]
        }
      ]
    },
    {
      "cell_type": "markdown",
      "source": [
        "Property of Matrix"
      ],
      "metadata": {
        "id": "IfFKBNb3y-Hs"
      }
    },
    {
      "cell_type": "code",
      "source": [
        "#identity matrix\n",
        "c = np.eye(3,3)\n",
        "print(c)\n",
        "\n",
        "#zero matrix\n",
        "d = np.zeros([5,5])\n",
        "print(d)\n",
        "\n",
        "#full matrix\n",
        "e = np.full((3,3),7)\n",
        "print(e)\n",
        "\n",
        "#transpose of matrix\n",
        "f = np.transpose(np.multiply(a1, b1))\n",
        "print(f)"
      ],
      "metadata": {
        "colab": {
          "base_uri": "https://localhost:8080/"
        },
        "id": "MMfezVd0y-dM",
        "outputId": "6844428d-cdd0-44b0-a648-70caf69dcfdf"
      },
      "execution_count": 100,
      "outputs": [
        {
          "output_type": "stream",
          "name": "stdout",
          "text": [
            "[[1. 0. 0.]\n",
            " [0. 1. 0.]\n",
            " [0. 0. 1.]]\n",
            "[[0. 0. 0. 0. 0.]\n",
            " [0. 0. 0. 0. 0.]\n",
            " [0. 0. 0. 0. 0.]\n",
            " [0. 0. 0. 0. 0.]\n",
            " [0. 0. 0. 0. 0.]]\n",
            "[[7 7 7]\n",
            " [7 7 7]\n",
            " [7 7 7]]\n",
            "[[  8 -20]\n",
            " [  6 -15]]\n"
          ]
        }
      ]
    }
  ]
}