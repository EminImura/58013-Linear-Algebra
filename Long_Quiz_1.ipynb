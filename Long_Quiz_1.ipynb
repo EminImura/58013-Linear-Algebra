{
  "nbformat": 4,
  "nbformat_minor": 0,
  "metadata": {
    "colab": {
      "provenance": [],
      "authorship_tag": "ABX9TyM0/MuKHs/ByNdTAHGArkMX",
      "include_colab_link": true
    },
    "kernelspec": {
      "name": "python3",
      "display_name": "Python 3"
    },
    "language_info": {
      "name": "python"
    }
  },
  "cells": [
    {
      "cell_type": "markdown",
      "metadata": {
        "id": "view-in-github",
        "colab_type": "text"
      },
      "source": [
        "<a href=\"https://colab.research.google.com/github/EminImura/58013-Linear-Algebra/blob/main/Long_Quiz_1.ipynb\" target=\"_parent\"><img src=\"https://colab.research.google.com/assets/colab-badge.svg\" alt=\"Open In Colab\"/></a>"
      ]
    },
    {
      "cell_type": "markdown",
      "source": [
        "Problem 1. Consider the four matrices, (20 points each)"
      ],
      "metadata": {
        "id": "JqA3jC31gsaE"
      }
    },
    {
      "cell_type": "code",
      "execution_count": 29,
      "metadata": {
        "id": "rFUjbYRkgqbi",
        "colab": {
          "base_uri": "https://localhost:8080/"
        },
        "outputId": "6edc1b87-4111-4319-fff6-79dbf3319eb7"
      },
      "outputs": [
        {
          "output_type": "stream",
          "name": "stdout",
          "text": [
            "A) AB\n",
            "[[22 28]\n",
            " [49 64]]\n",
            "\n",
            "B) D+D\n",
            "[[2 4]\n",
            " [6 8]]\n",
            "\n",
            "C) 2C\n",
            "[[ 2  4  6]\n",
            " [ 8 10 12]\n",
            " [14 16 18]]\n"
          ]
        }
      ],
      "source": [
        "import numpy as np\n",
        "\n",
        "A = np.array([[1,2,3],[4,5,6]])\n",
        "B = np.array([[1,2],[3,4],[5,6]])\n",
        "C = np.array([[1,2,3],[4,5,6],[7,8,9]])\n",
        "D = np.array([[1,2],[3,4]])\n",
        "\n",
        "print(\"A) AB\")\n",
        "print(np.dot(A,B))\n",
        "\n",
        "print(\"\\nB) D+D\")\n",
        "print(np.add(D,D))\n",
        "\n",
        "print(\"\\nC) 2C\")\n",
        "print(np.dot(2,C))"
      ]
    },
    {
      "cell_type": "markdown",
      "source": [
        "Problem 2. Find the cross-product of matrices, A = [2,7,4] and B = [3,9,8]. Show your solutions using Python program . (40 points)"
      ],
      "metadata": {
        "id": "feyV2cagiJB7"
      }
    },
    {
      "cell_type": "code",
      "source": [
        "A = np.array([2,7,4])\n",
        "B = np.array([3,9,8])\n",
        "\n",
        "print(np.cross(A,B))"
      ],
      "metadata": {
        "colab": {
          "base_uri": "https://localhost:8080/"
        },
        "id": "a4ETKP4Jhu9S",
        "outputId": "493623df-67e3-4366-e697-f95e037245ea"
      },
      "execution_count": 26,
      "outputs": [
        {
          "output_type": "stream",
          "name": "stdout",
          "text": [
            "[20 -4 -3]\n"
          ]
        }
      ]
    }
  ]
}