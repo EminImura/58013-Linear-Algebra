{
  "nbformat": 4,
  "nbformat_minor": 0,
  "metadata": {
    "colab": {
      "provenance": [],
      "authorship_tag": "ABX9TyNq2Ndv5IuXhB9luodwCD5A",
      "include_colab_link": true
    },
    "kernelspec": {
      "name": "python3",
      "display_name": "Python 3"
    },
    "language_info": {
      "name": "python"
    }
  },
  "cells": [
    {
      "cell_type": "markdown",
      "metadata": {
        "id": "view-in-github",
        "colab_type": "text"
      },
      "source": [
        "<a href=\"https://colab.research.google.com/github/EminImura/58013-Linear-Algebra/blob/main/Long_Quiz_1.ipynb\" target=\"_parent\"><img src=\"https://colab.research.google.com/assets/colab-badge.svg\" alt=\"Open In Colab\"/></a>"
      ]
    },
    {
      "cell_type": "markdown",
      "source": [
        "Problem 1. Consider the four matrices, (20 points each)"
      ],
      "metadata": {
        "id": "JqA3jC31gsaE"
      }
    },
    {
      "cell_type": "code",
      "execution_count": 30,
      "metadata": {
        "id": "rFUjbYRkgqbi",
        "colab": {
          "base_uri": "https://localhost:8080/"
        },
        "outputId": "037e6edf-da06-47aa-8fbc-d9208fe69a7a"
      },
      "outputs": [
        {
          "output_type": "stream",
          "name": "stdout",
          "text": [
            "A) AB\n",
            "[[22 28]\n",
            " [49 64]]\n",
            "\n",
            "B) D+D\n",
            "[[2 4]\n",
            " [6 8]]\n",
            "\n",
            "C) 2C\n",
            "[[ 2  4  6]\n",
            " [ 8 10 12]\n",
            " [14 16 18]]\n"
          ]
        }
      ],
      "source": [
        "import numpy as np\n",
        "\n",
        "A = np.array([[1,2,3],[4,5,6]])\n",
        "B = np.array([[1,2],[3,4],[5,6]])\n",
        "C = np.array([[1,2,3],[4,5,6],[7,8,9]])\n",
        "D = np.array([[1,2],[3,4]])\n",
        "\n",
        "print(\"A) AB\")\n",
        "print(np.dot(A,B))\n",
        "\n",
        "print(\"\\nB) D+D\")\n",
        "print(np.add(D,D))\n",
        "\n",
        "print(\"\\nC) 2C\")\n",
        "print(np.multiply(2,C))"
      ]
    },
    {
      "cell_type": "markdown",
      "source": [
        "Problem 2. Find the cross-product of matrices, A = [2,7,4] and B = [3,9,8]. Show your solutions using Python program . (40 points)"
      ],
      "metadata": {
        "id": "feyV2cagiJB7"
      }
    },
    {
      "cell_type": "code",
      "source": [
        "A = np.array([2,7,4])\n",
        "B = np.array([3,9,8])\n",
        "\n",
        "sol = [(A[1]*B[2])-(A[2]*B[1]), (A[2]*B[0])-(A[0]*B[2]), (A[0]*B[1])-(A[1]*B[0])]\n",
        "\n",
        "print(sol)\n",
        "print(np.cross(A,B))"
      ],
      "metadata": {
        "colab": {
          "base_uri": "https://localhost:8080/"
        },
        "id": "a4ETKP4Jhu9S",
        "outputId": "54d09fa1-46ad-4cce-e10b-69188428a62a"
      },
      "execution_count": 35,
      "outputs": [
        {
          "output_type": "stream",
          "name": "stdout",
          "text": [
            "[20, -4, -3]\n",
            "[20 -4 -3]\n"
          ]
        }
      ]
    }
  ]
}