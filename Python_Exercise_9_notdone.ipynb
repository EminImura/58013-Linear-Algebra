{
  "nbformat": 4,
  "nbformat_minor": 0,
  "metadata": {
    "colab": {
      "provenance": [],
      "authorship_tag": "ABX9TyPTImFGBz46L3fIlGyWiqEk",
      "include_colab_link": true
    },
    "kernelspec": {
      "name": "python3",
      "display_name": "Python 3"
    },
    "language_info": {
      "name": "python"
    }
  },
  "cells": [
    {
      "cell_type": "markdown",
      "metadata": {
        "id": "view-in-github",
        "colab_type": "text"
      },
      "source": [
        "<a href=\"https://colab.research.google.com/github/EminImura/58013-Linear-Algebra/blob/main/Python_Exercise_9_notdone.ipynb\" target=\"_parent\"><img src=\"https://colab.research.google.com/assets/colab-badge.svg\" alt=\"Open In Colab\"/></a>"
      ]
    },
    {
      "cell_type": "markdown",
      "source": [
        "Matrix Algebra"
      ],
      "metadata": {
        "id": "9dnI4GWw2lnD"
      }
    },
    {
      "cell_type": "code",
      "execution_count": 7,
      "metadata": {
        "colab": {
          "base_uri": "https://localhost:8080/"
        },
        "id": "8PrJSSQ02f23",
        "outputId": "95b9cec9-8401-4256-caa1-9f7b0f95ddbf"
      },
      "outputs": [
        {
          "output_type": "execute_result",
          "data": {
            "text/plain": [
              "3"
            ]
          },
          "metadata": {},
          "execution_count": 7
        }
      ],
      "source": [
        "import numpy as np\n",
        "import matplotlib.pyplot as plt\n",
        "%matplotlib inline\n",
        "\n",
        "A = np.array([[1,4],\n",
        "              [0,3]])\n",
        "\n",
        "round(np.linalg.det(A))"
      ]
    },
    {
      "cell_type": "code",
      "source": [
        "## Now other mathematics classes would require you to solve this by hand,\n",
        "## and that is great for practicing your memorization and coordination skills\n",
        "## but in this class we aim for simplicity and speed so we'll use programming\n",
        "## but it's completely fine if you want to try to solve this one by hand.\n",
        "\n",
        "import numpy as np\n",
        "\n",
        "B = np.array([[1,3,5,6],\n",
        "              [0,3,1,3],\n",
        "              [3,1,8,2],\n",
        "              [5,2,6,8]])\n",
        "round(np.linalg.det(B))"
      ],
      "metadata": {
        "colab": {
          "base_uri": "https://localhost:8080/"
        },
        "id": "1W8WZ5sJ256i",
        "outputId": "bd213e7e-b628-4143-fb3d-ebff96536c30"
      },
      "execution_count": 6,
      "outputs": [
        {
          "output_type": "execute_result",
          "data": {
            "text/plain": [
              "-235"
            ]
          },
          "metadata": {},
          "execution_count": 6
        }
      ]
    },
    {
      "cell_type": "markdown",
      "source": [
        "Coding Activity 9"
      ],
      "metadata": {
        "id": "jg1qE3nE-bxt"
      }
    },
    {
      "cell_type": "code",
      "source": [
        "A = np.array([[1,2,3],[3,2,1],[2,3,1]])\n",
        "B = np.array([[4,5,6],[6,5,4],[5,6,4]])\n",
        "C = np.array([[7,8,9],[9,8,7],[8,9,7]])\n",
        "\n",
        "print(\"Matrices:\")\n",
        "print(A, \"\\n\")\n",
        "print(B, \"\\n\")\n",
        "print(C, \"\\n\")"
      ],
      "metadata": {
        "colab": {
          "base_uri": "https://localhost:8080/"
        },
        "id": "XeFNzW_FD0Hr",
        "outputId": "71b1a8d5-a931-4ed0-b3f0-cc7d4e3e201b"
      },
      "execution_count": 34,
      "outputs": [
        {
          "output_type": "stream",
          "name": "stdout",
          "text": [
            "Matrices:\n",
            "[[1 2 3]\n",
            " [3 2 1]\n",
            " [2 3 1]] \n",
            "\n",
            "[[4 5 6]\n",
            " [6 5 4]\n",
            " [5 6 4]] \n",
            "\n",
            "[[7 8 9]\n",
            " [9 8 7]\n",
            " [8 9 7]] \n",
            "\n"
          ]
        }
      ]
    },
    {
      "cell_type": "code",
      "source": [
        "#Associative Property\n",
        "print(\"Associative Property: (AB)C = A(BC)\")\n",
        "\n",
        "AB = np.dot(A,B)\n",
        "AB_C = np.dot(AB,C)\n",
        "\n",
        "print(\"\\n(AB)C =\\n\", AB_C)\n",
        "\n",
        "\n",
        "BC = np.dot(B,C)\n",
        "A_BC = np.dot(A,BC)\n",
        "\n",
        "print(\"\\nA(BC) =\\n\", A_BC)"
      ],
      "metadata": {
        "colab": {
          "base_uri": "https://localhost:8080/"
        },
        "id": "lajgZGpV-cIs",
        "outputId": "8719e1a6-8c3b-4a90-8b6a-40221e4c1573"
      },
      "execution_count": 35,
      "outputs": [
        {
          "output_type": "stream",
          "name": "stdout",
          "text": [
            "Associative Property: (AB)C = A(BC)\n",
            "\n",
            "(AB)C =\n",
            " [[722 746 692]\n",
            " [722 750 688]\n",
            " [720 748 692]]\n",
            "\n",
            "A(BC) =\n",
            " [[722 746 692]\n",
            " [722 750 688]\n",
            " [720 748 692]]\n"
          ]
        }
      ]
    },
    {
      "cell_type": "code",
      "source": [
        "#Distributive Property\n",
        "print(\"Distributive Property: A(B+C) = AB + AC\")\n",
        "\n",
        "BplusC = np.add(B,C)\n",
        "A_BplusC = np.dot(A,BplusC)\n",
        "\n",
        "print(\"\\nA(B+C) =\", A_BplusC)\n",
        "\n",
        "\n",
        "AB = np.dot(A,B)\n",
        "AC = np.dot(A,C)\n",
        "\n",
        "ABplusAC = np.add(AB,AC)\n",
        "\n",
        "print(\"\\nAB + AC =\", ABplusAC)"
      ],
      "metadata": {
        "colab": {
          "base_uri": "https://localhost:8080/"
        },
        "id": "66dfPcg4DVBC",
        "outputId": "85be1266-9f5e-41f1-d950-d9c5bce789ce"
      },
      "execution_count": 36,
      "outputs": [
        {
          "output_type": "stream",
          "name": "stdout",
          "text": [
            "Distributive Property: A(B+C) = AB + AC\n",
            "\n",
            "A(B+C) = [[80 84 70]\n",
            " [76 80 78]\n",
            " [80 80 74]]\n",
            "\n",
            "AB + AC = [[80 84 70]\n",
            " [76 80 78]\n",
            " [80 80 74]]\n"
          ]
        }
      ]
    },
    {
      "cell_type": "code",
      "source": [
        "#Closure Property\n",
        "print(\"Closure Property: size of A = size of dA\")\n",
        "\n",
        "d = 3\n",
        "dA = np.dot(d, A)\n",
        "\n",
        "print(\"\\nd =\", d)\n",
        "print(\"\\nA =\\n\", A)\n",
        "print(\"\\ndA =\\n\", dA)"
      ],
      "metadata": {
        "colab": {
          "base_uri": "https://localhost:8080/"
        },
        "id": "f9g3zg49DVbS",
        "outputId": "5466a9ce-caeb-4e08-d047-7d7fecc79662"
      },
      "execution_count": 38,
      "outputs": [
        {
          "output_type": "stream",
          "name": "stdout",
          "text": [
            "Closure Property: size of A = size of dA\n",
            "\n",
            "d = 3\n",
            "\n",
            "A =\n",
            " [[1 2 3]\n",
            " [3 2 1]\n",
            " [2 3 1]]\n",
            "\n",
            "dA =\n",
            " [[3 6 9]\n",
            " [9 6 3]\n",
            " [6 9 3]]\n"
          ]
        }
      ]
    },
    {
      "cell_type": "code",
      "source": [
        "#Multiplicative Identity Property\n",
        "print(\"Multiplicative Identity Property: if A is an n * n matrix and I is an identity matrix of order n.\")\n",
        "\n"
      ],
      "metadata": {
        "colab": {
          "base_uri": "https://localhost:8080/"
        },
        "id": "uvQ4SCThDW9a",
        "outputId": "24b1a90a-72a0-44c6-fe4d-456b97750520"
      },
      "execution_count": 39,
      "outputs": [
        {
          "output_type": "stream",
          "name": "stdout",
          "text": [
            "Multiplicative Identity Property: if A is an n * n matrix and I is an identity matrix of order n.\n"
          ]
        }
      ]
    },
    {
      "cell_type": "code",
      "source": [
        "#Multiplicative property of Zero"
      ],
      "metadata": {
        "id": "Ow_z-rwNDYMi"
      },
      "execution_count": null,
      "outputs": []
    },
    {
      "cell_type": "code",
      "source": [
        "#Scolar Property"
      ],
      "metadata": {
        "id": "rKetElcnDY9y"
      },
      "execution_count": null,
      "outputs": []
    }
  ]
}