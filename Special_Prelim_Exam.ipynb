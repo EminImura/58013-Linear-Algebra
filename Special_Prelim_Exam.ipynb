{
  "nbformat": 4,
  "nbformat_minor": 0,
  "metadata": {
    "colab": {
      "provenance": [],
      "authorship_tag": "ABX9TyOlJNbwH8x5FCPceO/TJ0i/",
      "include_colab_link": true
    },
    "kernelspec": {
      "name": "python3",
      "display_name": "Python 3"
    },
    "language_info": {
      "name": "python"
    }
  },
  "cells": [
    {
      "cell_type": "markdown",
      "metadata": {
        "id": "view-in-github",
        "colab_type": "text"
      },
      "source": [
        "<a href=\"https://colab.research.google.com/github/EminImura/58013-Linear-Algebra/blob/main/Special_Prelim_Exam.ipynb\" target=\"_parent\"><img src=\"https://colab.research.google.com/assets/colab-badge.svg\" alt=\"Open In Colab\"/></a>"
      ]
    },
    {
      "cell_type": "markdown",
      "source": [
        "Special Prelim Exam"
      ],
      "metadata": {
        "id": "O1ldFV_vUyOi"
      }
    },
    {
      "cell_type": "markdown",
      "source": [
        "Question 1. (20 points) Create a Multiplication Table/Chart of 10 (10x10) using numpy/ python program."
      ],
      "metadata": {
        "id": "h4-oPKogU57L"
      }
    },
    {
      "cell_type": "code",
      "source": [
        "import numpy as np\n",
        "\n",
        "for col in range(1,11):\n",
        "  for row in range(1,11):\n",
        "    table = np.array([col*row])\n",
        "    print(table, end=\"\\t\")\n",
        "  print(\"\")"
      ],
      "metadata": {
        "colab": {
          "base_uri": "https://localhost:8080/"
        },
        "id": "Zw0gigWjZm9u",
        "outputId": "258cc6c2-6c5c-4b24-ef21-adf99233bbc1"
      },
      "execution_count": 60,
      "outputs": [
        {
          "output_type": "stream",
          "name": "stdout",
          "text": [
            "[1]\t[2]\t[3]\t[4]\t[5]\t[6]\t[7]\t[8]\t[9]\t[10]\t\n",
            "[2]\t[4]\t[6]\t[8]\t[10]\t[12]\t[14]\t[16]\t[18]\t[20]\t\n",
            "[3]\t[6]\t[9]\t[12]\t[15]\t[18]\t[21]\t[24]\t[27]\t[30]\t\n",
            "[4]\t[8]\t[12]\t[16]\t[20]\t[24]\t[28]\t[32]\t[36]\t[40]\t\n",
            "[5]\t[10]\t[15]\t[20]\t[25]\t[30]\t[35]\t[40]\t[45]\t[50]\t\n",
            "[6]\t[12]\t[18]\t[24]\t[30]\t[36]\t[42]\t[48]\t[54]\t[60]\t\n",
            "[7]\t[14]\t[21]\t[28]\t[35]\t[42]\t[49]\t[56]\t[63]\t[70]\t\n",
            "[8]\t[16]\t[24]\t[32]\t[40]\t[48]\t[56]\t[64]\t[72]\t[80]\t\n",
            "[9]\t[18]\t[27]\t[36]\t[45]\t[54]\t[63]\t[72]\t[81]\t[90]\t\n",
            "[10]\t[20]\t[30]\t[40]\t[50]\t[60]\t[70]\t[80]\t[90]\t[100]\t\n"
          ]
        }
      ]
    },
    {
      "cell_type": "markdown",
      "source": [
        "Question 2. (10 points) In relation to Question 1, show a solution that triples all the values of each element."
      ],
      "metadata": {
        "id": "Ab_zL0PJU7sC"
      }
    },
    {
      "cell_type": "code",
      "source": [
        "import numpy as np\n",
        "\n",
        "for col in range(1,11):\n",
        "  for row in range(1,11):\n",
        "    table = np.array([3*col*row])\n",
        "    print(table, end=\"\\t\")\n",
        "  print(\"\")"
      ],
      "metadata": {
        "colab": {
          "base_uri": "https://localhost:8080/"
        },
        "id": "0SWUm576bReN",
        "outputId": "ebbe7c59-4270-451c-80fd-02e6254b3d9b"
      },
      "execution_count": 61,
      "outputs": [
        {
          "output_type": "stream",
          "name": "stdout",
          "text": [
            "[3]\t[6]\t[9]\t[12]\t[15]\t[18]\t[21]\t[24]\t[27]\t[30]\t\n",
            "[6]\t[12]\t[18]\t[24]\t[30]\t[36]\t[42]\t[48]\t[54]\t[60]\t\n",
            "[9]\t[18]\t[27]\t[36]\t[45]\t[54]\t[63]\t[72]\t[81]\t[90]\t\n",
            "[12]\t[24]\t[36]\t[48]\t[60]\t[72]\t[84]\t[96]\t[108]\t[120]\t\n",
            "[15]\t[30]\t[45]\t[60]\t[75]\t[90]\t[105]\t[120]\t[135]\t[150]\t\n",
            "[18]\t[36]\t[54]\t[72]\t[90]\t[108]\t[126]\t[144]\t[162]\t[180]\t\n",
            "[21]\t[42]\t[63]\t[84]\t[105]\t[126]\t[147]\t[168]\t[189]\t[210]\t\n",
            "[24]\t[48]\t[72]\t[96]\t[120]\t[144]\t[168]\t[192]\t[216]\t[240]\t\n",
            "[27]\t[54]\t[81]\t[108]\t[135]\t[162]\t[189]\t[216]\t[243]\t[270]\t\n",
            "[30]\t[60]\t[90]\t[120]\t[150]\t[180]\t[210]\t[240]\t[270]\t[300]\t\n"
          ]
        }
      ]
    },
    {
      "cell_type": "markdown",
      "source": [
        "Question 3. (10 points) Create a square matrix that has a diagonal of 5's."
      ],
      "metadata": {
        "id": "xG68Ki1wU_CC"
      }
    },
    {
      "cell_type": "code",
      "source": [
        "sqr = np.array([[5,0,0,0,0],\n",
        "                [0,5,0,0,0],\n",
        "                [0,0,5,0,0],\n",
        "                [0,0,0,5,0],\n",
        "                [0,0,0,0,5]])\n",
        "print(sqr)"
      ],
      "metadata": {
        "colab": {
          "base_uri": "https://localhost:8080/"
        },
        "id": "Z9njJ51SU_U6",
        "outputId": "ac7b8151-28d1-44a8-853d-f6dfa0554218"
      },
      "execution_count": 62,
      "outputs": [
        {
          "output_type": "stream",
          "name": "stdout",
          "text": [
            "[[5 0 0 0 0]\n",
            " [0 5 0 0 0]\n",
            " [0 0 5 0 0]\n",
            " [0 0 0 5 0]\n",
            " [0 0 0 0 5]]\n"
          ]
        }
      ]
    },
    {
      "cell_type": "markdown",
      "source": [
        "Question 4. (30 points) Create a matrix whose elements are:\n",
        "Type a python program that can view the size, shape, and dimension of the matrix above."
      ],
      "metadata": {
        "id": "Nnp1Jb84VDEi"
      }
    },
    {
      "cell_type": "code",
      "source": [
        "matrix = np.array([[1, 2, 3, 4],\n",
        "                   [5, 6, 7, 8],\n",
        "                   [9, 10, 11, 12]])\n",
        "\n",
        "size = np.size(matrix)\n",
        "shape = np.shape(matrix)\n",
        "dim = np.ndim(matrix)\n",
        "\n",
        "print(\"The size of the matrix is\", size)\n",
        "print(\"The shape of the matrix is\",shape)\n",
        "print(\"The number of dimensions of the matrix is\",dim)"
      ],
      "metadata": {
        "colab": {
          "base_uri": "https://localhost:8080/"
        },
        "id": "28OVrsIvVDUC",
        "outputId": "920bcefa-10ff-4e65-d7ea-f195c3682846"
      },
      "execution_count": 66,
      "outputs": [
        {
          "output_type": "stream",
          "name": "stdout",
          "text": [
            "The size of the matrix is 12\n",
            "The shape of the matrix is (3, 4)\n",
            "The number of dimensions of the matrix is 2\n"
          ]
        }
      ]
    },
    {
      "cell_type": "markdown",
      "source": [
        "Question 5. (30 points) Create a result array by subtracting the following two NumPy arrays. Next, modify the result array by calculating the square of each element."
      ],
      "metadata": {
        "id": "WS9Fawc2VDzC"
      }
    },
    {
      "cell_type": "code",
      "source": [
        "arrayOne = np.array([[5,6,9], [21,18,27]])\n",
        "arrayTwo = np.array([[15,33,24], [4,7,1]])\n",
        "\n",
        "diff = np.subtract(arrayOne, arrayTwo)\n",
        "print(diff)\n",
        "\n",
        "print(\"\")\n",
        "sqr_elm = diff**2\n",
        "print(sqr_elm)"
      ],
      "metadata": {
        "colab": {
          "base_uri": "https://localhost:8080/"
        },
        "id": "_1wBUao9VEFj",
        "outputId": "b42ffc19-eef3-4ae4-b8cb-8a219173bee9"
      },
      "execution_count": 68,
      "outputs": [
        {
          "output_type": "stream",
          "name": "stdout",
          "text": [
            "[[-10 -27 -15]\n",
            " [ 17  11  26]]\n",
            "\n",
            "[[100 729 225]\n",
            " [289 121 676]]\n"
          ]
        }
      ]
    }
  ]
}