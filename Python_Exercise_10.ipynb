{
  "nbformat": 4,
  "nbformat_minor": 0,
  "metadata": {
    "colab": {
      "provenance": [],
      "authorship_tag": "ABX9TyPW723x9DJupc9K3gAEItKT",
      "include_colab_link": true
    },
    "kernelspec": {
      "name": "python3",
      "display_name": "Python 3"
    },
    "language_info": {
      "name": "python"
    }
  },
  "cells": [
    {
      "cell_type": "markdown",
      "metadata": {
        "id": "view-in-github",
        "colab_type": "text"
      },
      "source": [
        "<a href=\"https://colab.research.google.com/github/EminImura/58013-Linear-Algebra/blob/main/Python_Exercise_10.ipynb\" target=\"_parent\"><img src=\"https://colab.research.google.com/assets/colab-badge.svg\" alt=\"Open In Colab\"/></a>"
      ]
    },
    {
      "cell_type": "markdown",
      "source": [
        "System of Linear Equations"
      ],
      "metadata": {
        "id": "JADiYFyMPHK3"
      }
    },
    {
      "cell_type": "code",
      "execution_count": 1,
      "metadata": {
        "colab": {
          "base_uri": "https://localhost:8080/"
        },
        "id": "aebZb0cIPCU1",
        "outputId": "bedbc370-97a6-4ff6-f767-13c6ddce725d"
      },
      "outputs": [
        {
          "output_type": "stream",
          "name": "stdout",
          "text": [
            "[[ 1.  1.  1.]\n",
            " [ 3. -2. -1.]\n",
            " [-1.  4.  2.]]\n",
            "(3, 3)\n",
            "[[ 1.]\n",
            " [ 4.]\n",
            " [-3.]]\n",
            "(3, 1)\n"
          ]
        }
      ],
      "source": [
        "import numpy as np\n",
        "\n",
        "X = np.array([[1,1,1],\n",
        "              [3,-2,-1],\n",
        "              [-1,4,2]],\n",
        "              dtype=float)\n",
        "Y = np.array([[1],\n",
        "              [4],\n",
        "              [-3]],\n",
        "              dtype=float)\n",
        "\n",
        "print(X)\n",
        "print(X.shape)\n",
        "print(Y)\n",
        "print(Y.shape)"
      ]
    },
    {
      "cell_type": "markdown",
      "source": [
        "Coding Activity 10"
      ],
      "metadata": {
        "id": "7vsdPZWPPpTm"
      }
    },
    {
      "cell_type": "markdown",
      "source": [
        "Let's say you have a bakery and you are purchasing supplies consisting of flour, yeast, and eggs from your supplier. For month 1 you bought a bakery promo that consists of 30 sacks of flour, 10 packs of yeast, and 120 eggs and you are charged for 12,500 pesos. For month two you bought a different bakery promo that consists of 40 sacks of flour, 20 packs of yeast, and 200 eggs then you are charged with 18,000 pesos. And then for month three you bought yet a different bakery promo that consists of 50 sacks of flour, 40 packs of yeast, and 360 eggs for 25,700 pesos. Now you are wondering if the promos are more cost-effective compared to buying them as a regular buyer, what could be the price of the flour per sack, yeast per pack, and one piece of egg?"
      ],
      "metadata": {
        "id": "9ypF3I_oPu6N"
      }
    },
    {
      "cell_type": "code",
      "source": [
        "import numpy as np\n",
        "#x = flour\n",
        "#y = yeast\n",
        "#z = eggs\n",
        "\n",
        "#month1 => 30x + 10y + 120z = 12500\n",
        "#month2 => 40x + 20y + 200z = 18000\n",
        "#month3 => 50x + 40y + 360z = 25700\n",
        "\n",
        "month = np.array([[30, 10, 120],\n",
        "                  [40, 20, 200],\n",
        "                  [50, 40, 360]])\n",
        "price = np.array([[12500],\n",
        "                  [18000],\n",
        "                  [25700]])\n",
        "\n",
        "sol = np.linalg.solve(month, price)\n",
        "flour_sol, yeast_sol, eggs_sol = sol[:, 0]\n",
        "\n",
        "print(\"Price of flour: ₱\", round(flour_sol))\n",
        "print(\"Price of yeast: ₱\", round(yeast_sol))\n",
        "print(\"Price of eggs:  ₱\", round(eggs_sol))"
      ],
      "metadata": {
        "colab": {
          "base_uri": "https://localhost:8080/"
        },
        "id": "09SpieDZPph8",
        "outputId": "c00df103-5707-4d84-cb0f-0636729842ec"
      },
      "execution_count": 29,
      "outputs": [
        {
          "output_type": "stream",
          "name": "stdout",
          "text": [
            "Price of flour: ₱ 330\n",
            "Price of yeast: ₱ 140\n",
            "Price of eggs:  ₱ 10\n"
          ]
        }
      ]
    }
  ]
}