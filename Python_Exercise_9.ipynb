{
  "nbformat": 4,
  "nbformat_minor": 0,
  "metadata": {
    "colab": {
      "provenance": [],
      "authorship_tag": "ABX9TyPUCIMTh/cETO7+IdZLzI2F",
      "include_colab_link": true
    },
    "kernelspec": {
      "name": "python3",
      "display_name": "Python 3"
    },
    "language_info": {
      "name": "python"
    }
  },
  "cells": [
    {
      "cell_type": "markdown",
      "metadata": {
        "id": "view-in-github",
        "colab_type": "text"
      },
      "source": [
        "<a href=\"https://colab.research.google.com/github/EminImura/58013-Linear-Algebra/blob/main/Python_Exercise_9.ipynb\" target=\"_parent\"><img src=\"https://colab.research.google.com/assets/colab-badge.svg\" alt=\"Open In Colab\"/></a>"
      ]
    },
    {
      "cell_type": "markdown",
      "source": [
        "Matrix Algebra"
      ],
      "metadata": {
        "id": "9dnI4GWw2lnD"
      }
    },
    {
      "cell_type": "code",
      "execution_count": null,
      "metadata": {
        "colab": {
          "base_uri": "https://localhost:8080/"
        },
        "id": "8PrJSSQ02f23",
        "outputId": "c9f59370-3273-4430-f676-044895ea1b76"
      },
      "outputs": [
        {
          "output_type": "execute_result",
          "data": {
            "text/plain": [
              "3"
            ]
          },
          "metadata": {},
          "execution_count": 2
        }
      ],
      "source": [
        "import numpy as np\n",
        "import matplotlib.pyplot as plt\n",
        "%matplotlib inline\n",
        "\n",
        "A = np.array([[1,4],\n",
        "              [0,3]])\n",
        "\n",
        "round(np.linalg.det(A))"
      ]
    },
    {
      "cell_type": "code",
      "source": [
        "## Now other mathematics classes would require you to solve this by hand,\n",
        "## and that is great for practicing your memorization and coordination skills\n",
        "## but in this class we aim for simplicity and speed so we'll use programming\n",
        "## but it's completely fine if you want to try to solve this one by hand.\n",
        "\n",
        "import numpy as np\n",
        "\n",
        "B = np.array([[1,3,5,6],\n",
        "              [0,3,1,3],\n",
        "              [3,1,8,2],\n",
        "              [5,2,6,8]])\n",
        "round(np.linalg.det(B))"
      ],
      "metadata": {
        "colab": {
          "base_uri": "https://localhost:8080/"
        },
        "id": "1W8WZ5sJ256i",
        "outputId": "e5b7a523-01a9-4ae3-cb43-c001c8bf55d3"
      },
      "execution_count": null,
      "outputs": [
        {
          "output_type": "execute_result",
          "data": {
            "text/plain": [
              "-235"
            ]
          },
          "metadata": {},
          "execution_count": 3
        }
      ]
    },
    {
      "cell_type": "markdown",
      "source": [
        "Coding Activity 9"
      ],
      "metadata": {
        "id": "jg1qE3nE-bxt"
      }
    },
    {
      "cell_type": "code",
      "source": [
        "A = np.array([[1,2,3],[3,2,1],[2,3,1]])\n",
        "B = np.array([[4,5,6],[6,5,4],[5,6,4]])\n",
        "C = np.array([[7,8,9],[9,8,7],[8,9,7]])\n",
        "\n",
        "print(\"Matrices:\")\n",
        "print(A, \"\\n\")\n",
        "print(B, \"\\n\")\n",
        "print(C, \"\\n\")"
      ],
      "metadata": {
        "colab": {
          "base_uri": "https://localhost:8080/"
        },
        "id": "XeFNzW_FD0Hr",
        "outputId": "67087c16-8836-4775-94e6-9032655dd93f"
      },
      "execution_count": null,
      "outputs": [
        {
          "output_type": "stream",
          "name": "stdout",
          "text": [
            "Matrices:\n",
            "[[1 2 3]\n",
            " [3 2 1]\n",
            " [2 3 1]] \n",
            "\n",
            "[[4 5 6]\n",
            " [6 5 4]\n",
            " [5 6 4]] \n",
            "\n",
            "[[7 8 9]\n",
            " [9 8 7]\n",
            " [8 9 7]] \n",
            "\n"
          ]
        }
      ]
    },
    {
      "cell_type": "code",
      "source": [
        "#Associative Property\n",
        "print(\"Associative Property: (AB)C = A(BC)\")\n",
        "\n",
        "AB = np.dot(A,B)\n",
        "AB_C = np.dot(AB,C)\n",
        "\n",
        "print(\"\\n(AB)C =\\n\", AB_C)\n",
        "\n",
        "\n",
        "BC = np.dot(B,C)\n",
        "A_BC = np.dot(A,BC)\n",
        "\n",
        "print(\"\\nA(BC) =\\n\", A_BC)"
      ],
      "metadata": {
        "colab": {
          "base_uri": "https://localhost:8080/"
        },
        "id": "lajgZGpV-cIs",
        "outputId": "f8fa68cd-0666-4a27-babd-76bd7b1f7c93"
      },
      "execution_count": null,
      "outputs": [
        {
          "output_type": "stream",
          "name": "stdout",
          "text": [
            "Associative Property: (AB)C = A(BC)\n",
            "\n",
            "(AB)C =\n",
            " [[722 746 692]\n",
            " [722 750 688]\n",
            " [720 748 692]]\n",
            "\n",
            "A(BC) =\n",
            " [[722 746 692]\n",
            " [722 750 688]\n",
            " [720 748 692]]\n"
          ]
        }
      ]
    },
    {
      "cell_type": "code",
      "source": [
        "#Distributive Property\n",
        "print(\"Distributive Property: A(B+C) = AB + AC\")\n",
        "\n",
        "BplusC = np.add(B,C)\n",
        "A_BplusC = np.dot(A,BplusC)\n",
        "\n",
        "print(\"\\nA(B+C) =\\n\", A_BplusC)\n",
        "\n",
        "\n",
        "AB = np.dot(A,B)\n",
        "AC = np.dot(A,C)\n",
        "\n",
        "ABplusAC = np.add(AB,AC)\n",
        "\n",
        "print(\"\\nAB + AC =\\n\", ABplusAC)"
      ],
      "metadata": {
        "colab": {
          "base_uri": "https://localhost:8080/"
        },
        "id": "66dfPcg4DVBC",
        "outputId": "58745f3e-cb6c-4b68-cb1a-e03a7530aa76"
      },
      "execution_count": null,
      "outputs": [
        {
          "output_type": "stream",
          "name": "stdout",
          "text": [
            "Distributive Property: A(B+C) = AB + AC\n",
            "\n",
            "A(B+C) =\n",
            " [[80 84 70]\n",
            " [76 80 78]\n",
            " [80 80 74]]\n",
            "\n",
            "AB + AC =\n",
            " [[80 84 70]\n",
            " [76 80 78]\n",
            " [80 80 74]]\n"
          ]
        }
      ]
    },
    {
      "cell_type": "code",
      "source": [
        "#Closure Property\n",
        "print(\"Closure Property: size of A = size of dA\")\n",
        "\n",
        "d = 3\n",
        "dA = np.dot(d, A)\n",
        "\n",
        "print(\"\\nd =\", d)\n",
        "print(\"\\nA =\\n\", A)\n",
        "print(\"\\ndA =\\n\", dA)"
      ],
      "metadata": {
        "colab": {
          "base_uri": "https://localhost:8080/"
        },
        "id": "f9g3zg49DVbS",
        "outputId": "823cdd0c-56f2-4e13-bdfc-6fe3691c9b6a"
      },
      "execution_count": null,
      "outputs": [
        {
          "output_type": "stream",
          "name": "stdout",
          "text": [
            "Closure Property: size of A = size of dA\n",
            "\n",
            "d = 3\n",
            "\n",
            "A =\n",
            " [[1 2 3]\n",
            " [3 2 1]\n",
            " [2 3 1]]\n",
            "\n",
            "dA =\n",
            " [[3 6 9]\n",
            " [9 6 3]\n",
            " [6 9 3]]\n"
          ]
        }
      ]
    },
    {
      "cell_type": "code",
      "source": [
        "#Multiplicative Identity Property\n",
        "print(\"Multiplicative Identity Property: if A is an n * n matrix and I is an identity matrix of order n then AI = A\")\n",
        "\n",
        "I = np.eye(3,3)\n",
        "AI = np.dot(A,I)\n",
        "\n",
        "print(\"\\nI =\\n\", I)\n",
        "print(\"\\nA =\\n\", A)\n",
        "print(\"\\nA =\\n\", AI)"
      ],
      "metadata": {
        "colab": {
          "base_uri": "https://localhost:8080/"
        },
        "id": "uvQ4SCThDW9a",
        "outputId": "02d919e3-09c2-435f-ace2-f05b1d31eb87"
      },
      "execution_count": null,
      "outputs": [
        {
          "output_type": "stream",
          "name": "stdout",
          "text": [
            "Multiplicative Identity Property: if A is an n * n matrix and I is an identity matrix of order n then AI = A\n",
            "\n",
            "I =\n",
            " [[1. 0. 0.]\n",
            " [0. 1. 0.]\n",
            " [0. 0. 1.]]\n",
            "\n",
            "A =\n",
            " [[1 2 3]\n",
            " [3 2 1]\n",
            " [2 3 1]]\n",
            "\n",
            "A =\n",
            " [[1. 2. 3.]\n",
            " [3. 2. 1.]\n",
            " [2. 3. 1.]]\n"
          ]
        }
      ]
    },
    {
      "cell_type": "code",
      "source": [
        "#Multiplicative property of Zero\n",
        "print(\"Multiplicative property of Zero: If a matrix is multiplied by a zero matrix then the resultant matrix is a zero matrix.\")\n",
        "\n",
        "ZeroM = np.zeros([3,3])\n",
        "AxZero = np.dot(A,ZeroM)\n",
        "\n",
        "print(\"\\nZero Matrix =\\n\", ZeroM)\n",
        "print(\"\\nA =\\n\", A)\n",
        "print(\"\\nA * Zero Matrix =\\n\", AxZero)"
      ],
      "metadata": {
        "id": "Ow_z-rwNDYMi",
        "outputId": "11d7e110-068a-43b3-afba-7d17139daa89",
        "colab": {
          "base_uri": "https://localhost:8080/"
        }
      },
      "execution_count": null,
      "outputs": [
        {
          "output_type": "stream",
          "name": "stdout",
          "text": [
            "Multiplicative property of Zero: If a matrix is multiplied by a zero matrix then the resultant matrix is a zero matrix.\n",
            "\n",
            "Zero Matrix =\n",
            " [[0. 0. 0.]\n",
            " [0. 0. 0.]\n",
            " [0. 0. 0.]]\n",
            "\n",
            "A =\n",
            " [[1 2 3]\n",
            " [3 2 1]\n",
            " [2 3 1]]\n",
            "\n",
            "A * Zero Matrix =\n",
            " [[0. 0. 0.]\n",
            " [0. 0. 0.]\n",
            " [0. 0. 0.]]\n"
          ]
        }
      ]
    },
    {
      "cell_type": "code",
      "source": [
        "#Commutative Property\n",
        "print(\"Commutative Property: AB ≠ BA\")\n",
        "\n",
        "AB = np.dot(A,B)\n",
        "BA = np.dot(B,A)\n",
        "\n",
        "print(\"\\nAB =\\n\", AB)\n",
        "print(\"\\nBA =\\n\", BA)\n",
        "print(\"\\nNot Equal!\")"
      ],
      "metadata": {
        "id": "rKetElcnDY9y",
        "outputId": "35e27cc3-5f4b-44cc-b76f-ac24bcd35c26",
        "colab": {
          "base_uri": "https://localhost:8080/"
        }
      },
      "execution_count": null,
      "outputs": [
        {
          "output_type": "stream",
          "name": "stdout",
          "text": [
            "Commutative Property: AB ≠ BA\n",
            "\n",
            "AB =\n",
            " [[31 33 26]\n",
            " [29 31 30]\n",
            " [31 31 28]]\n",
            "\n",
            "BA =\n",
            " [[31 36 23]\n",
            " [29 34 27]\n",
            " [31 34 25]]\n",
            "\n",
            "Not Equal!\n"
          ]
        }
      ]
    }
  ]
}